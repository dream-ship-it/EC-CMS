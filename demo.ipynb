{
 "cells": [
  {
   "cell_type": "code",
   "execution_count": 3,
   "metadata": {},
   "outputs": [],
   "source": [
    "import scipy.io as scio\n",
    "import numpy as np\n",
    "from sklearn.metrics.cluster import normalized_mutual_info_score, adjusted_rand_score\n",
    "from sklearn.metrics import f1_score\n",
    "from LWCA import computeECI, computeLWCA\n",
    "from util import get_all_segs, getCA\n",
    "from EC_CMS import EC_CMC_al\n",
    "from solver import solver\n",
    "al = EC_CMC_al(alpha = 0.75, lamda = 0.01)\n",
    "s1 = solver(dataName='Ecoli', nums = 20, seed = 2, cntTimes = 20, algorithm = al)"
   ]
  },
  {
   "cell_type": "code",
   "execution_count": 4,
   "metadata": {},
   "outputs": [
    {
     "name": "stdout",
     "output_type": "stream",
     "text": [
      "**************************************************************\n",
      "** Average Performance over 20 runs on the Ecoli dataset **\n",
      "Data size: 336\n",
      "Ensemble size: 20\n",
      "Average NMI/ARI/F scores:\n",
      "EC_CMS : 0.7052631774559064 0.7278191675390399 0.8057628026653919\n",
      "**************************************************************\n",
      "**************************************************************\n"
     ]
    }
   ],
   "source": [
    "s1.run()"
   ]
  }
 ],
 "metadata": {
  "kernelspec": {
   "display_name": "dataAna",
   "language": "python",
   "name": "python3"
  },
  "language_info": {
   "codemirror_mode": {
    "name": "ipython",
    "version": 3
   },
   "file_extension": ".py",
   "mimetype": "text/x-python",
   "name": "python",
   "nbconvert_exporter": "python",
   "pygments_lexer": "ipython3",
   "version": "3.10.10"
  },
  "orig_nbformat": 4
 },
 "nbformat": 4,
 "nbformat_minor": 2
}
